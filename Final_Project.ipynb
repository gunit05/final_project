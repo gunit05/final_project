{
 "cells": [
  {
   "cell_type": "code",
   "execution_count": null,
   "id": "bfffa615",
   "metadata": {
    "vscode": {
     "languageId": "plaintext"
    }
   },
   "outputs": [],
   "source": [
    "import pandas as pd\n",
    "import numpy as np\n",
    "import matplotlib.pyplot as plt\n",
    "import seaborn as sns\n",
    "from sklearn.model_selection import train_test_split\n",
    "from sklearn.linear_model import LinearRegression\n",
    "from sklearn.tree import DecisionTreeRegressor\n",
    "from sklearn.ensemble import RandomForestRegressor\n",
    "from sklearn.metrics import r2_score, mean_squared_error, mean_absolute_error\n",
    "import joblib\n",
    "\n",
    "# Load dataset\n",
    "data = pd.read_csv(\"SolarIradOutdoorIndoor.csv\")\n",
    "\n",
    "# Features & Target\n",
    "X = data[['Solar irradiance', 'Wind speed [m/s]']]\n",
    "y = data['OutTemp']\n",
    "\n",
    "# Split\n",
    "X_train, X_test, y_train, y_test = train_test_split(X, y, test_size=0.2, random_state=42)\n",
    "\n",
    "# Models\n",
    "models = {\n",
    "    \"Linear Regression\": LinearRegression(),\n",
    "    \"Decision Tree\": DecisionTreeRegressor(random_state=42),\n",
    "    \"Random Forest\": RandomForestRegressor(random_state=42, n_estimators=100)\n",
    "}\n",
    "\n",
    "results = {}\n",
    "for name, model in models.items():\n",
    "    model.fit(X_train, y_train)\n",
    "    y_pred = model.predict(X_test)\n",
    "    results[name] = {\n",
    "        \"R2\": r2_score(y_test, y_pred),\n",
    "        \"MSE\": mean_squared_error(y_test, y_pred),\n",
    "        \"MAE\": mean_absolute_error(y_test, y_pred)\n",
    "    }\n",
    "    print(f\"\\n{name}: R2={results[name]['R2']:.3f}, MSE={results[name]['MSE']:.3f}, MAE={results[name]['MAE']:.3f}\")\n",
    "\n",
    "# Save the best model (Random Forest here)\n",
    "best_model = models[\"Random Forest\"]\n",
    "joblib.dump(best_model, \"temperature_model.pkl\")\n",
    "print(\"\\nBest model saved as temperature_model.pkl\")\n"
   ]
  }
 ],
 "metadata": {
  "language_info": {
   "name": "python"
  }
 },
 "nbformat": 4,
 "nbformat_minor": 5
}
